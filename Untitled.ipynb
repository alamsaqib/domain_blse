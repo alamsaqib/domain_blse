{
  "nbformat": 4,
  "nbformat_minor": 0,
  "metadata": {
    "colab": {
      "name": "Untitled",
      "provenance": [],
      "collapsed_sections": [],
      "include_colab_link": true
    },
    "kernelspec": {
      "name": "python3",
      "display_name": "Python 3"
    },
    "accelerator": "GPU"
  },
  "cells": [
    {
      "cell_type": "markdown",
      "metadata": {
        "id": "view-in-github",
        "colab_type": "text"
      },
      "source": [
        "<a href=\"https://colab.research.google.com/github/alamsaqib/domain_blse/blob/master/Untitled.ipynb\" target=\"_parent\"><img src=\"https://colab.research.google.com/assets/colab-badge.svg\" alt=\"Open In Colab\"/></a>"
      ]
    },
    {
      "cell_type": "code",
      "metadata": {
        "id": "39CowdhL15f5",
        "colab_type": "code",
        "outputId": "3c6d0b18-35fb-4794-d877-740068beeb81",
        "colab": {
          "base_uri": "https://localhost:8080/",
          "height": 136
        }
      },
      "source": [
        "! git clone https://github.com/amiryanj/socialways.git"
      ],
      "execution_count": 0,
      "outputs": [
        {
          "output_type": "stream",
          "text": [
            "Cloning into 'socialways'...\n",
            "remote: Enumerating objects: 352, done.\u001b[K\n",
            "remote: Counting objects:   0% (1/352)\u001b[K\rremote: Counting objects:   1% (4/352)\u001b[K\rremote: Counting objects:   2% (8/352)\u001b[K\rremote: Counting objects:   3% (11/352)\u001b[K\rremote: Counting objects:   4% (15/352)\u001b[K\rremote: Counting objects:   5% (18/352)\u001b[K\rremote: Counting objects:   6% (22/352)\u001b[K\rremote: Counting objects:   7% (25/352)\u001b[K\rremote: Counting objects:   8% (29/352)\u001b[K\rremote: Counting objects:   9% (32/352)\u001b[K\rremote: Counting objects:  10% (36/352)\u001b[K\rremote: Counting objects:  11% (39/352)\u001b[K\rremote: Counting objects:  12% (43/352)\u001b[K\rremote: Counting objects:  13% (46/352)\u001b[K\rremote: Counting objects:  14% (50/352)\u001b[K\rremote: Counting objects:  15% (53/352)\u001b[K\rremote: Counting objects:  16% (57/352)\u001b[K\rremote: Counting objects:  17% (60/352)\u001b[K\rremote: Counting objects:  18% (64/352)\u001b[K\rremote: Counting objects:  19% (67/352)\u001b[K\rremote: Counting objects:  20% (71/352)\u001b[K\rremote: Counting objects:  21% (74/352)\u001b[K\rremote: Counting objects:  22% (78/352)\u001b[K\rremote: Counting objects:  23% (81/352)\u001b[K\rremote: Counting objects:  24% (85/352)\u001b[K\rremote: Counting objects:  25% (88/352)\u001b[K\rremote: Counting objects:  26% (92/352)\u001b[K\rremote: Counting objects:  27% (96/352)\u001b[K\rremote: Counting objects:  28% (99/352)\u001b[K\rremote: Counting objects:  29% (103/352)\u001b[K\rremote: Counting objects:  30% (106/352)\u001b[K\rremote: Counting objects:  31% (110/352)\u001b[K\rremote: Counting objects:  32% (113/352)\u001b[K\rremote: Counting objects:  33% (117/352)\u001b[K\rremote: Counting objects:  34% (120/352)\u001b[K\rremote: Counting objects:  35% (124/352)\u001b[K\rremote: Counting objects:  36% (127/352)\u001b[K\rremote: Counting objects:  37% (131/352)\u001b[K\rremote: Counting objects:  38% (134/352)\u001b[K\rremote: Counting objects:  39% (138/352)\u001b[K\rremote: Counting objects:  40% (141/352)\u001b[K\rremote: Counting objects:  41% (145/352)\u001b[K\rremote: Counting objects:  42% (148/352)\u001b[K\rremote: Counting objects:  43% (152/352)\u001b[K\rremote: Counting objects:  44% (155/352)\u001b[K\rremote: Counting objects:  45% (159/352)\u001b[K\rremote: Counting objects:  46% (162/352)\u001b[K\rremote: Counting objects:  47% (166/352)\u001b[K\rremote: Counting objects:  48% (169/352)\u001b[K\rremote: Counting objects:  49% (173/352)\u001b[K\rremote: Counting objects:  50% (176/352)\u001b[K\rremote: Counting objects:  51% (180/352)\u001b[K\rremote: Counting objects:  52% (184/352)\u001b[K\rremote: Counting objects:  53% (187/352)\u001b[K\rremote: Counting objects:  54% (191/352)\u001b[K\rremote: Counting objects:  55% (194/352)\u001b[K\rremote: Counting objects:  56% (198/352)\u001b[K\rremote: Counting objects:  57% (201/352)\u001b[K\rremote: Counting objects:  58% (205/352)\u001b[K\rremote: Counting objects:  59% (208/352)\u001b[K\rremote: Counting objects:  60% (212/352)\u001b[K\rremote: Counting objects:  61% (215/352)\u001b[K\rremote: Counting objects:  62% (219/352)\u001b[K\rremote: Counting objects:  63% (222/352)\u001b[K\rremote: Counting objects:  64% (226/352)\u001b[K\rremote: Counting objects:  65% (229/352)\u001b[K\rremote: Counting objects:  66% (233/352)\u001b[K\rremote: Counting objects:  67% (236/352)\u001b[K\rremote: Counting objects:  68% (240/352)\u001b[K\rremote: Counting objects:  69% (243/352)\u001b[K\rremote: Counting objects:  70% (247/352)\u001b[K\rremote: Counting objects:  71% (250/352)\u001b[K\rremote: Counting objects:  72% (254/352)\u001b[K\rremote: Counting objects:  73% (257/352)\u001b[K\rremote: Counting objects:  74% (261/352)\u001b[K\rremote: Counting objects:  75% (264/352)\u001b[K\rremote: Counting objects:  76% (268/352)\u001b[K\rremote: Counting objects:  77% (272/352)\u001b[K\rremote: Counting objects:  78% (275/352)\u001b[K\rremote: Counting objects:  79% (279/352)\u001b[K\rremote: Counting objects:  80% (282/352)\u001b[K\rremote: Counting objects:  81% (286/352)\u001b[K\rremote: Counting objects:  82% (289/352)\u001b[K\rremote: Counting objects:  83% (293/352)\u001b[K\rremote: Counting objects:  84% (296/352)\u001b[K\rremote: Counting objects:  85% (300/352)\u001b[K\rremote: Counting objects:  86% (303/352)\u001b[K\rremote: Counting objects:  87% (307/352)\u001b[K\rremote: Counting objects:  88% (310/352)\u001b[K\rremote: Counting objects:  89% (314/352)\u001b[K\rremote: Counting objects:  90% (317/352)\u001b[K\rremote: Counting objects:  91% (321/352)\u001b[K\rremote: Counting objects:  92% (324/352)\u001b[K\rremote: Counting objects:  93% (328/352)\u001b[K\rremote: Counting objects:  94% (331/352)\u001b[K\rremote: Counting objects:  95% (335/352)\u001b[K\rremote: Counting objects:  96% (338/352)\u001b[K\rremote: Counting objects:  97% (342/352)\u001b[K\rremote: Counting objects:  98% (345/352)\u001b[K\rremote: Counting objects:  99% (349/352)\u001b[K\rremote: Counting objects: 100% (352/352)\u001b[K\rremote: Counting objects: 100% (352/352), done.\u001b[K\n",
            "remote: Compressing objects:   0% (1/199)\u001b[K\rremote: Compressing objects:   1% (2/199)\u001b[K\rremote: Compressing objects:   2% (4/199)\u001b[K\rremote: Compressing objects:   3% (6/199)\u001b[K\rremote: Compressing objects:   4% (8/199)\u001b[K\rremote: Compressing objects:   5% (10/199)\u001b[K\rremote: Compressing objects:   6% (12/199)\u001b[K\rremote: Compressing objects:   7% (14/199)\u001b[K\rremote: Compressing objects:   8% (16/199)\u001b[K\rremote: Compressing objects:   9% (18/199)\u001b[K\rremote: Compressing objects:  10% (20/199)\u001b[K\rremote: Compressing objects:  11% (22/199)\u001b[K\rremote: Compressing objects:  12% (24/199)\u001b[K\rremote: Compressing objects:  13% (26/199)\u001b[K\rremote: Compressing objects:  14% (28/199)\u001b[K\rremote: Compressing objects:  15% (30/199)\u001b[K\rremote: Compressing objects:  16% (32/199)\u001b[K\rremote: Compressing objects:  17% (34/199)\u001b[K\rremote: Compressing objects:  18% (36/199)\u001b[K\rremote: Compressing objects:  19% (38/199)\u001b[K\rremote: Compressing objects:  20% (40/199)\u001b[K\rremote: Compressing objects:  21% (42/199)\u001b[K\rremote: Compressing objects:  22% (44/199)\u001b[K\rremote: Compressing objects:  23% (46/199)\u001b[K\rremote: Compressing objects:  24% (48/199)\u001b[K\rremote: Compressing objects:  25% (50/199)\u001b[K\rremote: Compressing objects:  26% (52/199)\u001b[K\rremote: Compressing objects:  27% (54/199)\u001b[K\rremote: Compressing objects:  28% (56/199)\u001b[K\rremote: Compressing objects:  29% (58/199)\u001b[K\rremote: Compressing objects:  30% (60/199)\u001b[K\rremote: Compressing objects:  31% (62/199)\u001b[K\rremote: Compressing objects:  32% (64/199)\u001b[K\rremote: Compressing objects:  33% (66/199)\u001b[K\rremote: Compressing objects:  34% (68/199)\u001b[K\rremote: Compressing objects:  35% (70/199)\u001b[K\rremote: Compressing objects:  36% (72/199)\u001b[K\rremote: Compressing objects:  37% (74/199)\u001b[K\rremote: Compressing objects:  38% (76/199)\u001b[K\rremote: Compressing objects:  39% (78/199)\rremote: Compressing objects:  40% (80/199)\u001b[K\rremote: Compressing objects:  41% (82/199)\u001b[K\rremote: Compressing objects:  42% (84/199)\u001b[K\rremote: Compressing objects:  43% (86/199)\u001b[K\rremote: Compressing objects:  44% (88/199)\u001b[K\rremote: Compressing objects:  45% (90/199)\u001b[K\rremote: Compressing objects:  46% (92/199)\u001b[K\rremote: Compressing objects:  47% (94/199)\u001b[K\rremote: Compressing objects:  48% (96/199)\u001b[K\rremote: Compressing objects:  49% (98/199)\u001b[K\rremote: Compressing objects:  50% (100/199)\u001b[K\rremote: Compressing objects:  51% (102/199)\u001b[K\rremote: Compressing objects:  52% (104/199)\u001b[K\rremote: Compressing objects:  53% (106/199)\u001b[K\rremote: Compressing objects:  54% (108/199)\u001b[K\rremote: Compressing objects:  55% (110/199)\u001b[K\rremote: Compressing objects:  56% (112/199)\u001b[K\rremote: Compressing objects:  57% (114/199)\u001b[K\rremote: Compressing objects:  58% (116/199)\u001b[K\rremote: Compressing objects:  59% (118/199)\u001b[K\rremote: Compressing objects:  60% (120/199)\u001b[K\rremote: Compressing objects:  61% (122/199)\u001b[K\rremote: Compressing objects:  62% (124/199)\u001b[K\rremote: Compressing objects:  63% (126/199)\u001b[K\rremote: Compressing objects:  64% (128/199)\u001b[K\rremote: Compressing objects:  65% (130/199)\u001b[K\rremote: Compressing objects:  66% (132/199)\u001b[K\rremote: Compressing objects:  67% (134/199)\u001b[K\rremote: Compressing objects:  68% (136/199)\u001b[K\rremote: Compressing objects:  69% (138/199)\u001b[K\rremote: Compressing objects:  70% (140/199)\u001b[K\rremote: Compressing objects:  71% (142/199)\u001b[K\rremote: Compressing objects:  72% (144/199)\u001b[K\rremote: Compressing objects:  73% (146/199)\u001b[K\rremote: Compressing objects:  74% (148/199)\u001b[K\rremote: Compressing objects:  75% (150/199)\u001b[K\rremote: Compressing objects:  76% (152/199)\u001b[K\rremote: Compressing objects:  77% (154/199)\u001b[K\rremote: Compressing objects:  78% (156/199)\u001b[K\rremote: Compressing objects:  79% (158/199)\u001b[K\rremote: Compressing objects:  80% (160/199)\u001b[K\rremote: Compressing objects:  81% (162/199)\u001b[K\rremote: Compressing objects:  82% (164/199)\u001b[K\rremote: Compressing objects:  83% (166/199)\u001b[K\rremote: Compressing objects:  84% (168/199)\u001b[K\rremote: Compressing objects:  85% (170/199)\u001b[K\rremote: Compressing objects:  86% (172/199)\u001b[K\rremote: Compressing objects:  87% (174/199)\u001b[K\rremote: Compressing objects:  88% (176/199)\u001b[K\rremote: Compressing objects:  89% (178/199)\u001b[K\rremote: Compressing objects:  90% (180/199)\u001b[K\rremote: Compressing objects:  91% (182/199)\u001b[K\rremote: Compressing objects:  92% (184/199)\u001b[K\rremote: Compressing objects:  93% (186/199)\u001b[K\rremote: Compressing objects:  94% (188/199)\u001b[K\rremote: Compressing objects:  95% (190/199)\u001b[K\rremote: Compressing objects:  96% (192/199)\u001b[K\rremote: Compressing objects:  97% (194/199)\u001b[K\rremote: Compressing objects:  98% (196/199)\u001b[K\rremote: Compressing objects:  99% (198/199)\u001b[K\rremote: Compressing objects: 100% (199/199)\u001b[K\rremote: Compressing objects: 100% (199/199), done.\u001b[K\n",
            "Receiving objects:   0% (1/352)   \rReceiving objects:   1% (4/352)   \rReceiving objects:   2% (8/352)   \rReceiving objects:   3% (11/352)   \rReceiving objects:   4% (15/352)   \rReceiving objects:   5% (18/352)   \rReceiving objects:   6% (22/352)   \rReceiving objects:   7% (25/352)   \rReceiving objects:   8% (29/352)   \rReceiving objects:   9% (32/352)   \rReceiving objects:  10% (36/352)   \rReceiving objects:  11% (39/352)   \rReceiving objects:  12% (43/352)   \rReceiving objects:  13% (46/352)   \rReceiving objects:  14% (50/352)   \rReceiving objects:  15% (53/352)   \rReceiving objects:  16% (57/352)   \rReceiving objects:  17% (60/352)   \rReceiving objects:  18% (64/352)   \rReceiving objects:  19% (67/352)   \rReceiving objects:  20% (71/352)   \rReceiving objects:  21% (74/352)   \rReceiving objects:  22% (78/352)   \rReceiving objects:  23% (81/352)   \rReceiving objects:  24% (85/352)   \rReceiving objects:  25% (88/352)   \rReceiving objects:  26% (92/352)   \rReceiving objects:  27% (96/352)   \rReceiving objects:  28% (99/352)   \rReceiving objects:  29% (103/352)   \rReceiving objects:  30% (106/352)   \rReceiving objects:  31% (110/352)   \rReceiving objects:  32% (113/352)   \rReceiving objects:  33% (117/352)   \rReceiving objects:  34% (120/352)   \rReceiving objects:  35% (124/352)   \rReceiving objects:  36% (127/352)   \rReceiving objects:  37% (131/352)   \rReceiving objects:  38% (134/352)   \rReceiving objects:  39% (138/352)   \rReceiving objects:  40% (141/352)   \rReceiving objects:  41% (145/352)   \rReceiving objects:  42% (148/352)   \rReceiving objects:  43% (152/352)   \rReceiving objects:  44% (155/352)   \rReceiving objects:  45% (159/352)   \rReceiving objects:  46% (162/352)   \rReceiving objects:  47% (166/352)   \rReceiving objects:  48% (169/352)   \rReceiving objects:  49% (173/352)   \rReceiving objects:  50% (176/352)   \rReceiving objects:  51% (180/352)   \rReceiving objects:  52% (184/352)   \rReceiving objects:  53% (187/352)   \rReceiving objects:  54% (191/352)   \rReceiving objects:  55% (194/352)   \rReceiving objects:  56% (198/352)   \rReceiving objects:  57% (201/352)   \rReceiving objects:  58% (205/352)   \rReceiving objects:  59% (208/352)   \rReceiving objects:  60% (212/352)   \rReceiving objects:  61% (215/352)   \rReceiving objects:  62% (219/352)   \rReceiving objects:  63% (222/352)   \rReceiving objects:  64% (226/352)   \rReceiving objects:  65% (229/352)   \rReceiving objects:  66% (233/352)   \rReceiving objects:  67% (236/352)   \rReceiving objects:  68% (240/352)   \rReceiving objects:  69% (243/352)   \rReceiving objects:  70% (247/352)   \rReceiving objects:  71% (250/352)   \rReceiving objects:  72% (254/352)   \rReceiving objects:  73% (257/352)   \rReceiving objects:  74% (261/352)   \rReceiving objects:  75% (264/352)   \rReceiving objects:  76% (268/352)   \rReceiving objects:  77% (272/352)   \rReceiving objects:  78% (275/352)   \rReceiving objects:  79% (279/352)   \rReceiving objects:  80% (282/352)   \rReceiving objects:  81% (286/352)   \rReceiving objects:  82% (289/352)   \rReceiving objects:  83% (293/352)   \rReceiving objects:  84% (296/352)   \rReceiving objects:  85% (300/352)   \rReceiving objects:  86% (303/352)   \rReceiving objects:  87% (307/352)   \rReceiving objects:  88% (310/352)   \rReceiving objects:  89% (314/352)   \rReceiving objects:  90% (317/352)   \rReceiving objects:  91% (321/352)   \rReceiving objects:  92% (324/352)   \rReceiving objects:  93% (328/352)   \rReceiving objects:  94% (331/352)   \rReceiving objects:  95% (335/352)   \rReceiving objects:  96% (338/352)   \rReceiving objects:  97% (342/352)   \rReceiving objects:  98% (345/352)   \rremote: Total 352 (delta 183), reused 314 (delta 152), pack-reused 0\u001b[K\n",
            "Receiving objects:  99% (349/352)   \rReceiving objects: 100% (352/352)   \rReceiving objects: 100% (352/352), 4.90 MiB | 26.43 MiB/s, done.\n",
            "Resolving deltas:   0% (0/183)   \rResolving deltas:  10% (19/183)   \rResolving deltas:  11% (21/183)   \rResolving deltas:  13% (25/183)   \rResolving deltas:  14% (27/183)   \rResolving deltas:  16% (31/183)   \rResolving deltas:  18% (33/183)   \rResolving deltas:  22% (41/183)   \rResolving deltas:  25% (47/183)   \rResolving deltas:  26% (49/183)   \rResolving deltas:  27% (50/183)   \rResolving deltas:  37% (69/183)   \rResolving deltas:  39% (73/183)   \rResolving deltas:  40% (75/183)   \rResolving deltas:  43% (79/183)   \rResolving deltas:  44% (82/183)   \rResolving deltas:  46% (85/183)   \rResolving deltas:  48% (89/183)   \rResolving deltas:  49% (90/183)   \rResolving deltas:  50% (92/183)   \rResolving deltas:  54% (99/183)   \rResolving deltas:  58% (107/183)   \rResolving deltas:  59% (108/183)   \rResolving deltas:  60% (110/183)   \rResolving deltas:  63% (116/183)   \rResolving deltas:  64% (118/183)   \rResolving deltas:  67% (124/183)   \rResolving deltas:  72% (133/183)   \rResolving deltas:  73% (135/183)   \rResolving deltas:  74% (136/183)   \rResolving deltas:  76% (140/183)   \rResolving deltas:  78% (144/183)   \rResolving deltas:  79% (145/183)   \rResolving deltas:  83% (153/183)   \rResolving deltas:  87% (160/183)   \rResolving deltas:  89% (163/183)   \rResolving deltas:  90% (166/183)   \rResolving deltas:  91% (167/183)   \rResolving deltas:  92% (169/183)   \rResolving deltas:  93% (171/183)   \rResolving deltas:  95% (175/183)   \rResolving deltas:  97% (179/183)   \rResolving deltas:  98% (180/183)   \rResolving deltas:  99% (182/183)   \rResolving deltas: 100% (183/183)   \rResolving deltas: 100% (183/183), done.\n"
          ],
          "name": "stdout"
        }
      ]
    },
    {
      "cell_type": "code",
      "metadata": {
        "id": "1ZhMtc6b2aE1",
        "colab_type": "code",
        "outputId": "2cc52e1c-52c5-4804-e989-b40b57c1dbdc",
        "colab": {
          "base_uri": "https://localhost:8080/",
          "height": 34
        }
      },
      "source": [
        "cd socialways"
      ],
      "execution_count": 0,
      "outputs": [
        {
          "output_type": "stream",
          "text": [
            "/content/socialways\n"
          ],
          "name": "stdout"
        }
      ]
    },
    {
      "cell_type": "code",
      "metadata": {
        "id": "unuZVo_j2dp6",
        "colab_type": "code",
        "outputId": "17ddbbdc-00fb-4e70-9404-d04f36d8b78a",
        "colab": {
          "base_uri": "https://localhost:8080/",
          "height": 204
        }
      },
      "source": [
        "!wget http://www.vision.ee.ethz.ch/datasets_extra/ewap_dataset_light.tgz"
      ],
      "execution_count": 0,
      "outputs": [
        {
          "output_type": "stream",
          "text": [
            "--2019-11-13 05:34:32--  http://www.vision.ee.ethz.ch/datasets_extra/ewap_dataset_light.tgz\n",
            "Resolving www.vision.ee.ethz.ch (www.vision.ee.ethz.ch)... 129.132.52.140, 2001:67c:10ec:36c2::8c\n",
            "Connecting to www.vision.ee.ethz.ch (www.vision.ee.ethz.ch)|129.132.52.140|:80... connected.\n",
            "HTTP request sent, awaiting response... 200 OK\n",
            "Length: 406603 (397K) [application/x-gzip]\n",
            "Saving to: ‘ewap_dataset_light.tgz’\n",
            "\n",
            "ewap_dataset_light. 100%[===================>] 397.07K   697KB/s    in 0.6s    \n",
            "\n",
            "2019-11-13 05:34:33 (697 KB/s) - ‘ewap_dataset_light.tgz’ saved [406603/406603]\n",
            "\n"
          ],
          "name": "stdout"
        }
      ]
    },
    {
      "cell_type": "code",
      "metadata": {
        "id": "3G1YJlBE4lig",
        "colab_type": "code",
        "colab": {}
      },
      "source": [
        "!tar -xzf ewap_dataset_light.tgz"
      ],
      "execution_count": 0,
      "outputs": []
    },
    {
      "cell_type": "code",
      "metadata": {
        "id": "xwM2or3I5Joq",
        "colab_type": "code",
        "outputId": "a4eb162f-5056-4bd7-ac8a-355c823b1b26",
        "colab": {
          "base_uri": "https://localhost:8080/",
          "height": 34
        }
      },
      "source": [
        "! python create_dataset.py"
      ],
      "execution_count": 0,
      "outputs": [
        {
          "output_type": "stream",
          "text": [
            "dataset was created successfully and stored in: ../data-8-12.npz\n"
          ],
          "name": "stdout"
        }
      ]
    },
    {
      "cell_type": "code",
      "metadata": {
        "id": "h-NGMk1h5q3X",
        "colab_type": "code",
        "outputId": "fbad9b5b-2497-4f09-b940-dfecfcd32f5c",
        "colab": {
          "base_uri": "https://localhost:8080/",
          "height": 34
        }
      },
      "source": [
        "! python create_toy.py --npz hotel-8-12.npz"
      ],
      "execution_count": 0,
      "outputs": [
        {
          "output_type": "stream",
          "text": [
            "writing to hotel-8-12.npz\n"
          ],
          "name": "stdout"
        }
      ]
    },
    {
      "cell_type": "code",
      "metadata": {
        "id": "l28aFbW_YlZ8",
        "colab_type": "code",
        "colab": {}
      },
      "source": [
        "! python train.py"
      ],
      "execution_count": 0,
      "outputs": []
    }
  ]
}